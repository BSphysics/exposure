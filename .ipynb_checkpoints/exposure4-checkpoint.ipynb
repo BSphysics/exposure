{
 "cells": [
  {
   "cell_type": "code",
   "execution_count": null,
   "metadata": {},
   "outputs": [],
   "source": [
    "import os\n",
    "import numpy as np\n",
    "import matplotlib.pyplot as plt\n",
    "# from matplotlib.widgets import Slider\n",
    "from matplotlib.widgets import TextBox\n",
    "from skimage import io"
   ]
  },
  {
   "cell_type": "code",
   "execution_count": null,
   "metadata": {},
   "outputs": [],
   "source": [
    "plt.close('all')\n",
    "data_path = os.getcwd()"
   ]
  },
  {
   "cell_type": "code",
   "execution_count": null,
   "metadata": {},
   "outputs": [],
   "source": [
    "filename =  r'/' + r'chest.jfif'"
   ]
  },
  {
   "cell_type": "code",
   "execution_count": null,
   "metadata": {},
   "outputs": [],
   "source": [
    "im = (io.imread(data_path + filename))\n",
    "im = im / np.max(im)"
   ]
  },
  {
   "cell_type": "code",
   "execution_count": null,
   "metadata": {},
   "outputs": [],
   "source": [
    "fig, (ax1,ax2) = plt.subplots(1,2)"
   ]
  },
  {
   "cell_type": "code",
   "execution_count": null,
   "metadata": {},
   "outputs": [],
   "source": [
    "im1 = ax1.imshow(im, vmin = 0, vmax = 1, cmap = 'gray')\n",
    "ax1.axis('off')"
   ]
  },
  {
   "cell_type": "code",
   "execution_count": null,
   "metadata": {},
   "outputs": [],
   "source": [
    "im2 = ax2.imshow(im, vmin = 0, vmax = 1, cmap = 'gray')\n",
    "plt.axis('off')\n",
    "ax2.set_title('Original')"
   ]
  },
  {
   "cell_type": "markdown",
   "metadata": {},
   "source": [
    "%<br>\n",
    "fig.colorbar(im1)   "
   ]
  },
  {
   "cell_type": "code",
   "execution_count": null,
   "metadata": {},
   "outputs": [],
   "source": [
    "axcolor = 'lightgoldenrodyellow'"
   ]
  },
  {
   "cell_type": "code",
   "execution_count": null,
   "metadata": {},
   "outputs": [],
   "source": [
    "kvp_ax  = fig.add_axes([0.25, 0.15, 0.05, 0.05], facecolor = axcolor)    \n",
    "# kvp = Slider(kvp_ax, 'kVp', 30, 120, valinit = 30)\n",
    "kvp_box = TextBox(kvp_ax, \"Enter kVp here: \")\n",
    "kvp_box.text_disp.set_color('red')\n",
    "kvp_box.set_val(50)"
   ]
  },
  {
   "cell_type": "code",
   "execution_count": null,
   "metadata": {},
   "outputs": [],
   "source": [
    "mas_ax  = fig.add_axes([0.25, 0.05, 0.05, 0.05], facecolor = axcolor)    \n",
    "# mas = Slider(mas_ax, 'mAs', 0, 30, valinit = 0.0)\n",
    "mas_box = TextBox(mas_ax, 'Enter mAs here: ')\n",
    "mas_box.text_disp.set_color('blue')\n",
    "mas_box.set_val(20)"
   ]
  },
  {
   "cell_type": "code",
   "execution_count": null,
   "metadata": {},
   "outputs": [],
   "source": [
    "def update(val):\n",
    "    a = np.copy(im)\n",
    "    [k , m] = [int(val.text) for val in [kvp_box, mas_box]]\n",
    "    k = (k - 30)/48\n",
    "    m = m / 30\n",
    "    \n",
    "    if k == 0:\n",
    "        a = np.ones(im.shape)\n",
    "    elif k<1:\n",
    "        a[a>k] = 1\n",
    "    elif k>=1:\n",
    "        im1.norm.vmax = k\n",
    "    b = np.copy(a)\n",
    "    \n",
    "    if m == 0:\n",
    "        b = np.ones(im.shape)\n",
    "    elif m>=0.5:\n",
    "        b = b/(m+0.5)**4\n",
    "    elif m<0.5:\n",
    "        b = b + 3*np.random.rand(im.shape[0], im.shape[1])*(0.5-m) \n",
    "        \n",
    "        \n",
    "    im1.set_data(b)\n",
    "    fig.canvas.draw()"
   ]
  },
  {
   "cell_type": "code",
   "execution_count": null,
   "metadata": {},
   "outputs": [],
   "source": [
    "for val in [kvp_box, mas_box]:\n",
    "    val.on_submit(update)"
   ]
  },
  {
   "cell_type": "code",
   "execution_count": null,
   "metadata": {},
   "outputs": [],
   "source": [
    "plt.show()"
   ]
  }
 ],
 "metadata": {
  "kernelspec": {
   "display_name": "Python 3 (ipykernel)",
   "language": "python",
   "name": "python3"
  },
  "language_info": {
   "codemirror_mode": {
    "name": "ipython",
    "version": 3
   },
   "file_extension": ".py",
   "mimetype": "text/x-python",
   "name": "python",
   "nbconvert_exporter": "python",
   "pygments_lexer": "ipython3",
   "version": "3.9.6"
  }
 },
 "nbformat": 4,
 "nbformat_minor": 2
}
